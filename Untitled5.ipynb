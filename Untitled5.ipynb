{
 "cells": [
  {
   "cell_type": "markdown",
   "metadata": {},
   "source": [
    "## Gathering Yelp API Data"
   ]
  },
  {
   "cell_type": "code",
   "execution_count": 2,
   "metadata": {},
   "outputs": [],
   "source": [
    "import time\n",
    "from yelpapi import YelpAPI\n",
    "import argparse\n",
    "from pprint import pprint\n",
    "import pandas as pd\n",
    "from pandas.io.json import json_normalize"
   ]
  },
  {
   "cell_type": "code",
   "execution_count": null,
   "metadata": {},
   "outputs": [],
   "source": [
    "def api_looper(category, sortby):\n",
    "    yelp_api = YelpAPI(\"x5Ll12lMph6vMttYZQsyHRV2tpOyBKeHvuAZgGiHDkL-1rpyYNW7WbUtPj_zxB73aRrp-bnL2ld6-ACNppd4HQE0ZwG1R2EQA6Y6sFQuo3kclfhQTsbJlq8KEu2uW3Yx\")\n",
    "    \n",
    "    response = yelp_api.search_query(categories=category, location='seattle, wa', sort_by=sortby, limit=50)\n",
    "    response2 = json_normalize(response, 'businesses')\n",
    "    time.sleep(10)\n",
    "    offset_number = 50\n",
    "    for loop_number in range(0,19):\n",
    "        yelp_api = YelpAPI(\"x5Ll12lMph6vMttYZQsyHRV2tpOyBKeHvuAZgGiHDkL-1rpyYNW7WbUtPj_zxB73aRrp-bnL2ld6-ACNppd4HQE0ZwG1R2EQA6Y6sFQuo3kclfhQTsbJlq8KEu2uW3Yx\")\n",
    "        response3 = yelp_api.search_query(categories=category, location='seattle, wa', sort_by=sortby, limit=50, offset=offset_number)\n",
    "        offset_number += 50\n",
    "        response4 = json_normalize(response3, 'businesses')\n",
    "        print('normalized json')\n",
    "        response2 = response2.append(response4)\n",
    "        print('appended another 50 rows... total of ', offset_number, ' rows')\n",
    "        time.sleep(10)\n",
    "    response2 = response2.drop(['alias', 'distance', 'id', 'location', 'phone', 'transactions','url'], axis=1)\n",
    "    response2 = response2.reset_index(drop=True)\n",
    "    coordinates = pd.read_json((response2['coordinates']).to_json(),orient='index')\n",
    "    df = pd.merge(response2, coordinates, left_index=True, right_index=True)\n",
    "    df.drop('coordinates', axis=1)\n",
    "    df = df[['name', 'categories', 'display_phone', 'image_url', 'price', 'rating', 'review_count', 'latitude', 'longitude', 'is_closed']]\n",
    "    return response2\n"
   ]
  },
  {
   "cell_type": "code",
   "execution_count": null,
   "metadata": {},
   "outputs": [],
   "source": [
    "coffee_rating = api_looper('coffee', 'rating')\n",
    "coffee_review = api_looper('coffee', 'review_count')\n",
    "cafe_rating = api_looper('cafes', 'rating')\n",
    "cafe_review = api_looper('cafes', 'review_count')\n",
    "concat_df = [coffee_rating, coffee_review, cafe_rating, cafe_review]\n",
    "df4 = pd.concat(concat_df)\n",
    "df4 = df4.drop_duplicates(df4.columns.difference(['categories', 'name']))\n",
    "df4.to_csv('coffee_v4.csv')"
   ]
  },
  {
   "cell_type": "code",
   "execution_count": 122,
   "metadata": {},
   "outputs": [
    {
     "data": {
      "text/html": [
       "<div>\n",
       "<style scoped>\n",
       "    .dataframe tbody tr th:only-of-type {\n",
       "        vertical-align: middle;\n",
       "    }\n",
       "\n",
       "    .dataframe tbody tr th {\n",
       "        vertical-align: top;\n",
       "    }\n",
       "\n",
       "    .dataframe thead th {\n",
       "        text-align: right;\n",
       "    }\n",
       "</style>\n",
       "<table border=\"1\" class=\"dataframe\">\n",
       "  <thead>\n",
       "    <tr style=\"text-align: right;\">\n",
       "      <th></th>\n",
       "      <th>Unnamed: 0</th>\n",
       "      <th>name</th>\n",
       "      <th>categories</th>\n",
       "      <th>display_phone</th>\n",
       "      <th>image_url</th>\n",
       "      <th>price</th>\n",
       "      <th>rating</th>\n",
       "      <th>review_count</th>\n",
       "      <th>latitude</th>\n",
       "      <th>longitude</th>\n",
       "      <th>is_closed</th>\n",
       "    </tr>\n",
       "  </thead>\n",
       "  <tbody>\n",
       "    <tr>\n",
       "      <th>0</th>\n",
       "      <td>0</td>\n",
       "      <td>Daddy's Donuts</td>\n",
       "      <td>coffee</td>\n",
       "      <td>(206) 496-3670</td>\n",
       "      <td>https://s3-media2.fl.yelpcdn.com/bphoto/5PerLg...</td>\n",
       "      <td>$</td>\n",
       "      <td>5.0</td>\n",
       "      <td>399</td>\n",
       "      <td>47.758040</td>\n",
       "      <td>-122.246160</td>\n",
       "      <td>False</td>\n",
       "    </tr>\n",
       "    <tr>\n",
       "      <th>1</th>\n",
       "      <td>1</td>\n",
       "      <td>Medzo Gelato Bar &amp; Travel Cafe</td>\n",
       "      <td>coffee</td>\n",
       "      <td>(206) 935-4333</td>\n",
       "      <td>https://s3-media2.fl.yelpcdn.com/bphoto/YyhCI8...</td>\n",
       "      <td>$</td>\n",
       "      <td>5.0</td>\n",
       "      <td>76</td>\n",
       "      <td>47.466630</td>\n",
       "      <td>-122.346670</td>\n",
       "      <td>False</td>\n",
       "    </tr>\n",
       "    <tr>\n",
       "      <th>2</th>\n",
       "      <td>2</td>\n",
       "      <td>Celine Patisserie</td>\n",
       "      <td>coffee</td>\n",
       "      <td>(206) 466-5378</td>\n",
       "      <td>https://s3-media1.fl.yelpcdn.com/bphoto/m5-AFF...</td>\n",
       "      <td>$</td>\n",
       "      <td>5.0</td>\n",
       "      <td>123</td>\n",
       "      <td>47.678863</td>\n",
       "      <td>-122.355637</td>\n",
       "      <td>False</td>\n",
       "    </tr>\n",
       "    <tr>\n",
       "      <th>3</th>\n",
       "      <td>3</td>\n",
       "      <td>M Bakery &amp; Deli</td>\n",
       "      <td>coffee</td>\n",
       "      <td>(253) 395-1068</td>\n",
       "      <td>https://s3-media4.fl.yelpcdn.com/bphoto/zBraJV...</td>\n",
       "      <td>$</td>\n",
       "      <td>5.0</td>\n",
       "      <td>147</td>\n",
       "      <td>47.411003</td>\n",
       "      <td>-122.227958</td>\n",
       "      <td>False</td>\n",
       "    </tr>\n",
       "    <tr>\n",
       "      <th>4</th>\n",
       "      <td>4</td>\n",
       "      <td>Monorail Espresso</td>\n",
       "      <td>coffee</td>\n",
       "      <td>(206) 422-0736</td>\n",
       "      <td>https://s3-media2.fl.yelpcdn.com/bphoto/NQgSin...</td>\n",
       "      <td>$</td>\n",
       "      <td>4.5</td>\n",
       "      <td>464</td>\n",
       "      <td>47.611237</td>\n",
       "      <td>-122.334991</td>\n",
       "      <td>False</td>\n",
       "    </tr>\n",
       "  </tbody>\n",
       "</table>\n",
       "</div>"
      ],
      "text/plain": [
       "   Unnamed: 0                            name categories   display_phone  \\\n",
       "0           0                  Daddy's Donuts     coffee  (206) 496-3670   \n",
       "1           1  Medzo Gelato Bar & Travel Cafe     coffee  (206) 935-4333   \n",
       "2           2               Celine Patisserie     coffee  (206) 466-5378   \n",
       "3           3                 M Bakery & Deli     coffee  (253) 395-1068   \n",
       "4           4               Monorail Espresso     coffee  (206) 422-0736   \n",
       "\n",
       "                                           image_url price  rating  \\\n",
       "0  https://s3-media2.fl.yelpcdn.com/bphoto/5PerLg...     $     5.0   \n",
       "1  https://s3-media2.fl.yelpcdn.com/bphoto/YyhCI8...     $     5.0   \n",
       "2  https://s3-media1.fl.yelpcdn.com/bphoto/m5-AFF...     $     5.0   \n",
       "3  https://s3-media4.fl.yelpcdn.com/bphoto/zBraJV...     $     5.0   \n",
       "4  https://s3-media2.fl.yelpcdn.com/bphoto/NQgSin...     $     4.5   \n",
       "\n",
       "   review_count   latitude   longitude  is_closed  \n",
       "0           399  47.758040 -122.246160      False  \n",
       "1            76  47.466630 -122.346670      False  \n",
       "2           123  47.678863 -122.355637      False  \n",
       "3           147  47.411003 -122.227958      False  \n",
       "4           464  47.611237 -122.334991      False  "
      ]
     },
     "execution_count": 122,
     "metadata": {},
     "output_type": "execute_result"
    }
   ],
   "source": [
    "df = pd.read_csv('coffee_v4.csv')\n",
    "df.head(5)"
   ]
  },
  {
   "cell_type": "markdown",
   "metadata": {},
   "source": [
    "I used the lat/lon fields to create a map in Tableau, but the background was ugly. I utilized the Mapbox functionality and designed a map in Mapbox to use as a background instead. Worked pretty well. While I was at it, downloaded some custom icons to use for coffee and cafe."
   ]
  },
  {
   "cell_type": "markdown",
   "metadata": {},
   "source": [
    "Preliminary Tableau data constructed, but really wanted a neighborhood field.\n",
    "\n",
    "I tried two methods:\n",
    "\n",
    "1) Using postal codes and a list of neighborhoods associated with postal codes. This was limited and didn't work well.\n",
    "\n",
    "2) Find lat/long boundaries for each neighborhood. The most accurate source of this data were in shape files. These are geospatial data files. I used the QGIS software to load in the GIS data for King County Metro Neighborhoods (https://www.kingcounty.gov/services/gis/GISData.aspx) and also the cafe/coffee data using their lat/lon coordinates. I then did a spatial join, appending the neighborhood name to all points falling within the boundaries. I then exported this to a .csv and used it as my data source for Tableau."
   ]
  },
  {
   "cell_type": "markdown",
   "metadata": {},
   "source": [
    "<img src=\"gis_image.png\">"
   ]
  },
  {
   "cell_type": "markdown",
   "metadata": {},
   "source": [
    "<img src=\"tableau_image_1.png\">"
   ]
  },
  {
   "cell_type": "code",
   "execution_count": null,
   "metadata": {},
   "outputs": [],
   "source": []
  }
 ],
 "metadata": {
  "kernelspec": {
   "display_name": "Python 3",
   "language": "python",
   "name": "python3"
  },
  "language_info": {
   "codemirror_mode": {
    "name": "ipython",
    "version": 3
   },
   "file_extension": ".py",
   "mimetype": "text/x-python",
   "name": "python",
   "nbconvert_exporter": "python",
   "pygments_lexer": "ipython3",
   "version": "3.6.5"
  }
 },
 "nbformat": 4,
 "nbformat_minor": 2
}
